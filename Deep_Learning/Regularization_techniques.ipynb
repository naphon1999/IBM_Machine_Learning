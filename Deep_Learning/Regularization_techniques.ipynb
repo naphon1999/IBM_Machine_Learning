{
 "cells": [
  {
   "cell_type": "markdown",
   "metadata": {},
   "source": [
    "<p style=\"text-align:center\">\n",
    "    <a href=\"https://skills.network\" target=\"_blank\">\n",
    "    <img src=\"https://cf-courses-data.s3.us.cloud-object-storage.appdomain.cloud/assets/logos/SN_web_lightmode.png\" width=\"200\" alt=\"Skills Network Logo\">\n",
    "    </a>\n",
    "</p>\n"
   ]
  },
  {
   "cell_type": "markdown",
   "metadata": {},
   "source": [
    "# **Regularization Techniques**\n"
   ]
  },
  {
   "cell_type": "markdown",
   "metadata": {},
   "source": [
    "Estimated time needed: **30** minutes\n"
   ]
  },
  {
   "cell_type": "markdown",
   "metadata": {},
   "source": [
    "In this lab, you will learn five regularization techniques that are commonly used in training neural networks. You will see how they are implemented using Keras and the result of applying each of them on a real world dataset.\n"
   ]
  },
  {
   "cell_type": "markdown",
   "metadata": {},
   "source": [
    "## Table of Contents\n",
    "\n",
    "<ol>\n",
    "    <li><a href=\"https://#Objectives\">Objectives</a></li>\n",
    "    <li>\n",
    "        <a href=\"https://#Setup\">Setup</a>\n",
    "        <ol>\n",
    "            <li><a href=\"#Installing-Required-Libraries\">Installing Required Libraries</a></li>\n",
    "            <li><a href=\"#Importing-Required-Libraries\">Importing Required Libraries</a></li>\n",
    "            <li><a href=\"#Defining-Helper-Functions\">Defining Helper Functions</a></li>\n",
    "        </ol>     \n",
    "    </li>\n",
    "    <li><a href=\"https://#Overfitting\">Overfitting</a></li>\n",
    "    <li><a href=\"https://#L2-Regularization\">L2 Regularization</a></li> \n",
    "    <li><a href=\"https://#L1-Regularization\">L1 Regularization</a></li>\n",
    "    <li><a href=\"https://#Dropout\">Dropout</a></li> \n",
    "    <li><a href=\"https://#Batch-Normalization\">Batch Normalization</a></li>\n",
    "    <li><a href=\"#Example 1: Apply regularization techniques on simulated data\">Example 1: Apply regularization techniques on simulated data</a></li>\n",
    "    <li><a href=\"#Example 2: Spam Classification\">Example 2: Spam Classification</a></li>\n",
    "</ol>\n"
   ]
  },
  {
   "cell_type": "markdown",
   "metadata": {},
   "source": [
    "## Objectives\n",
    "\n",
    "After completing this lab you will be able to:\n",
    "\n",
    "*   Understand how the regularization techniques (L1, L2, Dropout, BatchNorm) work for neural networks.\n",
    "*   Describe the difference between L1 and L2 regularization.\n",
    "*   Apply the four types of regularization when training neural networks.\n"
   ]
  },
  {
   "cell_type": "markdown",
   "metadata": {},
   "source": [
    "***\n"
   ]
  },
  {
   "cell_type": "markdown",
   "metadata": {},
   "source": [
    "## Setup\n"
   ]
  },
  {
   "cell_type": "markdown",
   "metadata": {},
   "source": [
    "For this lab, we will be using the following libraries:\n",
    "\n",
    "*   [`numpy`](https://numpy.org/?utm_medium=Exinfluencer&utm_source=Exinfluencer&utm_content=000026UJ&utm_term=10006555&utm_id=NA-SkillsNetwork-Channel-SkillsNetworkCoursesIBMML0187ENSkillsNetwork31430127-2021-01-01) for mathematical operations.\n",
    "*   [`Pillow`](https://pillow.readthedocs.io/en/stable/?utm_medium=Exinfluencer&utm_source=Exinfluencer&utm_content=000026UJ&utm_term=10006555&utm_id=NA-SkillsNetwork-Channel-SkillsNetworkCoursesIBMML0187ENSkillsNetwork31430127-2021-01-01) for image processing functions.\n",
    "*   [`OpenCV`](https://docs.opencv.org/4.x/index.html?utm_medium=Exinfluencer&utm_source=Exinfluencer&utm_content=000026UJ&utm_term=10006555&utm_id=NA-SkillsNetwork-Channel-SkillsNetworkCoursesIBMML0187ENSkillsNetwork31430127-2021-01-01) for other image processing functions.\n",
    "*   [`tensorflow`](https://www.tensorflow.org/?utm_medium=Exinfluencer&utm_source=Exinfluencer&utm_content=000026UJ&utm_term=10006555&utm_id=NA-SkillsNetwork-Channel-SkillsNetworkCoursesIBMML0187ENSkillsNetwork31430127-2021-01-01) for machine learning and neural network related functions.\n",
    "*   [`matplotlib`](https://matplotlib.org/?utm_medium=Exinfluencer&utm_source=Exinfluencer&utm_content=000026UJ&utm_term=10006555&utm_id=NA-SkillsNetwork-Channel-SkillsNetworkCoursesIBMML0187ENSkillsNetwork31430127-2021-01-01) for additional plotting tools.\n"
   ]
  },
  {
   "cell_type": "markdown",
   "metadata": {},
   "source": [
    "### Installing Required Libraries\n",
    "\n",
    "The following required libraries are pre-installed in the Skills Network Labs environment. However, if you run these notebook commands in a different Jupyter environment (like Watson Studio or Anaconda), you will need to install these libraries by removing the `#` sign before `!mamba` in the following code cell.\n"
   ]
  },
  {
   "cell_type": "code",
   "execution_count": 1,
   "metadata": {},
   "outputs": [
    {
     "name": "stdout",
     "output_type": "stream",
     "text": [
      "Requirement already satisfied: tensorflow in /home/jupyterlab/conda/envs/python/lib/python3.7/site-packages (2.11.0)\n",
      "Requirement already satisfied: absl-py>=1.0.0 in /home/jupyterlab/conda/envs/python/lib/python3.7/site-packages (from tensorflow) (1.4.0)\n",
      "Requirement already satisfied: astunparse>=1.6.0 in /home/jupyterlab/conda/envs/python/lib/python3.7/site-packages (from tensorflow) (1.6.3)\n",
      "Requirement already satisfied: flatbuffers>=2.0 in /home/jupyterlab/conda/envs/python/lib/python3.7/site-packages (from tensorflow) (24.3.25)\n",
      "Requirement already satisfied: gast<=0.4.0,>=0.2.1 in /home/jupyterlab/conda/envs/python/lib/python3.7/site-packages (from tensorflow) (0.4.0)\n",
      "Requirement already satisfied: google-pasta>=0.1.1 in /home/jupyterlab/conda/envs/python/lib/python3.7/site-packages (from tensorflow) (0.2.0)\n",
      "Requirement already satisfied: grpcio<2.0,>=1.24.3 in /home/jupyterlab/conda/envs/python/lib/python3.7/site-packages (from tensorflow) (1.48.1)\n",
      "Requirement already satisfied: h5py>=2.9.0 in /home/jupyterlab/conda/envs/python/lib/python3.7/site-packages (from tensorflow) (3.8.0)\n",
      "Requirement already satisfied: keras<2.12,>=2.11.0 in /home/jupyterlab/conda/envs/python/lib/python3.7/site-packages (from tensorflow) (2.11.0)\n",
      "Requirement already satisfied: libclang>=13.0.0 in /home/jupyterlab/conda/envs/python/lib/python3.7/site-packages (from tensorflow) (18.1.1)\n",
      "Requirement already satisfied: numpy>=1.20 in /home/jupyterlab/conda/envs/python/lib/python3.7/site-packages (from tensorflow) (1.21.6)\n",
      "Requirement already satisfied: opt-einsum>=2.3.2 in /home/jupyterlab/conda/envs/python/lib/python3.7/site-packages (from tensorflow) (3.3.0)\n",
      "Requirement already satisfied: packaging in /home/jupyterlab/conda/envs/python/lib/python3.7/site-packages (from tensorflow) (23.1)\n",
      "Requirement already satisfied: protobuf<3.20,>=3.9.2 in /home/jupyterlab/conda/envs/python/lib/python3.7/site-packages (from tensorflow) (3.19.6)\n",
      "Requirement already satisfied: setuptools in /home/jupyterlab/conda/envs/python/lib/python3.7/site-packages (from tensorflow) (67.7.2)\n",
      "Requirement already satisfied: six>=1.12.0 in /home/jupyterlab/conda/envs/python/lib/python3.7/site-packages (from tensorflow) (1.16.0)\n",
      "Requirement already satisfied: tensorboard<2.12,>=2.11 in /home/jupyterlab/conda/envs/python/lib/python3.7/site-packages (from tensorflow) (2.11.2)\n",
      "Requirement already satisfied: tensorflow-estimator<2.12,>=2.11.0 in /home/jupyterlab/conda/envs/python/lib/python3.7/site-packages (from tensorflow) (2.11.0)\n",
      "Requirement already satisfied: termcolor>=1.1.0 in /home/jupyterlab/conda/envs/python/lib/python3.7/site-packages (from tensorflow) (2.3.0)\n",
      "Requirement already satisfied: typing-extensions>=3.6.6 in /home/jupyterlab/conda/envs/python/lib/python3.7/site-packages (from tensorflow) (4.5.0)\n",
      "Requirement already satisfied: wrapt>=1.11.0 in /home/jupyterlab/conda/envs/python/lib/python3.7/site-packages (from tensorflow) (1.14.1)\n",
      "Requirement already satisfied: tensorflow-io-gcs-filesystem>=0.23.1 in /home/jupyterlab/conda/envs/python/lib/python3.7/site-packages (from tensorflow) (0.34.0)\n",
      "Requirement already satisfied: wheel<1.0,>=0.23.0 in /home/jupyterlab/conda/envs/python/lib/python3.7/site-packages (from astunparse>=1.6.0->tensorflow) (0.40.0)\n",
      "Requirement already satisfied: google-auth<3,>=1.6.3 in /home/jupyterlab/conda/envs/python/lib/python3.7/site-packages (from tensorboard<2.12,>=2.11->tensorflow) (2.36.0)\n",
      "Requirement already satisfied: google-auth-oauthlib<0.5,>=0.4.1 in /home/jupyterlab/conda/envs/python/lib/python3.7/site-packages (from tensorboard<2.12,>=2.11->tensorflow) (0.4.6)\n",
      "Requirement already satisfied: markdown>=2.6.8 in /home/jupyterlab/conda/envs/python/lib/python3.7/site-packages (from tensorboard<2.12,>=2.11->tensorflow) (3.4.3)\n",
      "Requirement already satisfied: requests<3,>=2.21.0 in /home/jupyterlab/conda/envs/python/lib/python3.7/site-packages (from tensorboard<2.12,>=2.11->tensorflow) (2.29.0)\n",
      "Requirement already satisfied: tensorboard-data-server<0.7.0,>=0.6.0 in /home/jupyterlab/conda/envs/python/lib/python3.7/site-packages (from tensorboard<2.12,>=2.11->tensorflow) (0.6.1)\n",
      "Requirement already satisfied: tensorboard-plugin-wit>=1.6.0 in /home/jupyterlab/conda/envs/python/lib/python3.7/site-packages (from tensorboard<2.12,>=2.11->tensorflow) (1.8.1)\n",
      "Requirement already satisfied: werkzeug>=1.0.1 in /home/jupyterlab/conda/envs/python/lib/python3.7/site-packages (from tensorboard<2.12,>=2.11->tensorflow) (2.2.3)\n",
      "Requirement already satisfied: cachetools<6.0,>=2.0.0 in /home/jupyterlab/conda/envs/python/lib/python3.7/site-packages (from google-auth<3,>=1.6.3->tensorboard<2.12,>=2.11->tensorflow) (5.5.0)\n",
      "Requirement already satisfied: pyasn1-modules>=0.2.1 in /home/jupyterlab/conda/envs/python/lib/python3.7/site-packages (from google-auth<3,>=1.6.3->tensorboard<2.12,>=2.11->tensorflow) (0.3.0)\n",
      "Requirement already satisfied: rsa<5,>=3.1.4 in /home/jupyterlab/conda/envs/python/lib/python3.7/site-packages (from google-auth<3,>=1.6.3->tensorboard<2.12,>=2.11->tensorflow) (4.9)\n",
      "Requirement already satisfied: requests-oauthlib>=0.7.0 in /home/jupyterlab/conda/envs/python/lib/python3.7/site-packages (from google-auth-oauthlib<0.5,>=0.4.1->tensorboard<2.12,>=2.11->tensorflow) (2.0.0)\n",
      "Requirement already satisfied: importlib-metadata>=4.4 in /home/jupyterlab/conda/envs/python/lib/python3.7/site-packages (from markdown>=2.6.8->tensorboard<2.12,>=2.11->tensorflow) (4.11.4)\n",
      "Requirement already satisfied: charset-normalizer<4,>=2 in /home/jupyterlab/conda/envs/python/lib/python3.7/site-packages (from requests<3,>=2.21.0->tensorboard<2.12,>=2.11->tensorflow) (3.1.0)\n",
      "Requirement already satisfied: idna<4,>=2.5 in /home/jupyterlab/conda/envs/python/lib/python3.7/site-packages (from requests<3,>=2.21.0->tensorboard<2.12,>=2.11->tensorflow) (3.4)\n",
      "Requirement already satisfied: urllib3<1.27,>=1.21.1 in /home/jupyterlab/conda/envs/python/lib/python3.7/site-packages (from requests<3,>=2.21.0->tensorboard<2.12,>=2.11->tensorflow) (1.26.15)\n",
      "Requirement already satisfied: certifi>=2017.4.17 in /home/jupyterlab/conda/envs/python/lib/python3.7/site-packages (from requests<3,>=2.21.0->tensorboard<2.12,>=2.11->tensorflow) (2023.5.7)\n",
      "Requirement already satisfied: MarkupSafe>=2.1.1 in /home/jupyterlab/conda/envs/python/lib/python3.7/site-packages (from werkzeug>=1.0.1->tensorboard<2.12,>=2.11->tensorflow) (2.1.1)\n",
      "Requirement already satisfied: zipp>=0.5 in /home/jupyterlab/conda/envs/python/lib/python3.7/site-packages (from importlib-metadata>=4.4->markdown>=2.6.8->tensorboard<2.12,>=2.11->tensorflow) (3.15.0)\n",
      "Requirement already satisfied: pyasn1<0.6.0,>=0.4.6 in /home/jupyterlab/conda/envs/python/lib/python3.7/site-packages (from pyasn1-modules>=0.2.1->google-auth<3,>=1.6.3->tensorboard<2.12,>=2.11->tensorflow) (0.5.0)\n",
      "Requirement already satisfied: oauthlib>=3.0.0 in /home/jupyterlab/conda/envs/python/lib/python3.7/site-packages (from requests-oauthlib>=0.7.0->google-auth-oauthlib<0.5,>=0.4.1->tensorboard<2.12,>=2.11->tensorflow) (3.2.2)\n"
     ]
    }
   ],
   "source": [
    "# All Libraries required for this lab are listed, as follows. The libraries pre-installed on Skills Network Labs are commented.\n",
    "# !mamba install -qy numpy==1.22.3 matplotlib==3.5.1 tensorflow==2.9.0 opencv-python==4.5.5.62\n",
    "\n",
    "# Note: If your environment doesn't support \"!mamba install\", use \"!pip install --user\"\n",
    "!pip install --upgrade tensorflow\n",
    "# RESTART YOUR KERNEL AFTERWARD AS WELL"
   ]
  },
  {
   "cell_type": "markdown",
   "metadata": {},
   "source": [
    "You will need the nltk library for this lab, make sure to install it.\n"
   ]
  },
  {
   "cell_type": "code",
   "execution_count": 2,
   "metadata": {},
   "outputs": [],
   "source": [
    "%%capture\n",
    "!pip install nltk"
   ]
  },
  {
   "cell_type": "markdown",
   "metadata": {},
   "source": [
    "### Importing Required Libraries\n",
    "\n",
    "*We recommend you import all required libraries in one place, as follows:*\n"
   ]
  },
  {
   "cell_type": "code",
   "execution_count": 3,
   "metadata": {},
   "outputs": [
    {
     "name": "stderr",
     "output_type": "stream",
     "text": [
      "[nltk_data] Downloading package stopwords to\n",
      "[nltk_data]     /home/jupyterlab/nltk_data...\n",
      "[nltk_data]   Unzipping corpora/stopwords.zip.\n"
     ]
    }
   ],
   "source": [
    "import warnings\n",
    "warnings.filterwarnings('ignore')\n",
    "\n",
    "import os\n",
    "os.environ['TF_CPP_MIN_LOG_LEVEL'] = '2' \n",
    "\n",
    "import numpy as np\n",
    "import pandas as pd\n",
    "import matplotlib.pyplot as plt\n",
    "%matplotlib inline\n",
    "\n",
    "import nltk\n",
    "nltk.download('stopwords')\n",
    "from nltk.corpus import stopwords\n",
    "from sklearn.feature_extraction.text import TfidfVectorizer\n",
    "\n",
    "import tensorflow as tf\n",
    "from tensorflow import keras\n",
    "from tensorflow.keras import layers\n",
    "from tensorflow.keras.models import Sequential, Model\n",
    "from tensorflow.keras.layers import Dense"
   ]
  },
  {
   "cell_type": "markdown",
   "metadata": {},
   "source": [
    "### Defining Helper Functions\n"
   ]
  },
  {
   "cell_type": "markdown",
   "metadata": {},
   "source": [
    "This function helps prepare the SMS Spam dataset.\n"
   ]
  },
  {
   "cell_type": "code",
   "execution_count": 4,
   "metadata": {},
   "outputs": [],
   "source": [
    "def prepare_data():\n",
    "    try:\n",
    "        data = pd.read_csv(\"spam.csv\", encoding='latin-1')\n",
    "    except FileNotFoundError:\n",
    "        print(\"Data file not found, make sure it's downloaded.\")\n",
    "        \n",
    "    data.drop(['Unnamed: 2','Unnamed: 3','Unnamed: 4'], axis=1, inplace=True)\n",
    "    data.rename(columns={\"v1\": \"label\", \"v2\": \"text\"}, inplace=True)\n",
    "    data.label = data['label'].map({'ham':0, 'spam':1})\n",
    "    data['Count'] = data['text'].apply(lambda x: len(x))\n",
    "    \n",
    "    sw=stopwords.words(\"english\")\n",
    "    vectorizer = TfidfVectorizer(stop_words=sw, binary=True)\n",
    "\n",
    "    X = vectorizer.fit_transform(data.text).toarray()\n",
    "    y = data.label\n",
    "    \n",
    "    return X, y"
   ]
  },
  {
   "cell_type": "markdown",
   "metadata": {},
   "source": [
    "This function plots the loss and accuracy curve from the training history of a neural network.\n"
   ]
  },
  {
   "cell_type": "code",
   "execution_count": 5,
   "metadata": {},
   "outputs": [],
   "source": [
    "def plot_metrics(history):\n",
    "    fig = plt.figure(figsize=(10,5))\n",
    "    for i, metric in enumerate(['accuracy', 'loss']):\n",
    "        train_metrics = history.history[metric]\n",
    "        val_metrics = history.history['val_'+metric]\n",
    "        epochs = range(1, len(train_metrics) + 1)\n",
    "        plt.subplot(1,2,i+1)\n",
    "        plt.plot(epochs, train_metrics)\n",
    "        plt.plot(epochs, val_metrics)\n",
    "        plt.title('Training and validation '+ metric)\n",
    "        plt.xlabel(\"Epochs\")\n",
    "        plt.ylabel(metric)\n",
    "        plt.legend([\"train_\"+metric, 'val_'+metric])\n"
   ]
  },
  {
   "cell_type": "markdown",
   "metadata": {},
   "source": [
    "## Overfitting\n"
   ]
  },
  {
   "cell_type": "markdown",
   "metadata": {},
   "source": [
    " In the following figure, we see a two-class classification problem. The red points represent one class, and the blue points represent the second class. The actual decision boundary is shown in black. Most points are in the correct region, but several samples are in the incorrect region; this could be for many reasons, such as noise or outliers. The key point is that you do not expect data points of these classes in these regions.\n",
    "\n",
    "The second model in green is meant to approximate the decision boundary; this model classifies the data points, even the data points in the incorrect regions. This model does not generalize well. This is because most data points will not be in those regions. As a result, the data will do poorly on data not from the original dataset, like data in the real world. This is called **overfitting**.\n",
    "\n",
    "<center><img src=\"https://cf-courses-data.s3.us.cloud-object-storage.appdomain.cloud/IBMDeveloperSkillsNetwork-ML311-Coursera/labs/Module1/L3/images/Overfitting.png\" width=\"40%\"></center>\n",
    "\n",
    "<p style=\"text-align:center\">\n",
    "    <a href=\"https://en.wikipedia.org/wiki/Overfitting\">Source: Wikipedia</a>\n",
    "</p>\n",
    "\n",
    "To combat overfitting or high variance, we introduce four regularization techniques in this lab for you to choose from the next time you train your neural network. They are:\n",
    "\n",
    "- L2 (Ridge) regularization\n",
    "- L1 (Lasso) regularization\n",
    "- Dropout\n",
    "- Batch Normalization \n",
    "- Data shuffling\n"
   ]
  },
  {
   "cell_type": "markdown",
   "metadata": {},
   "source": [
    "## L2 Regularization\n"
   ]
  },
  {
   "cell_type": "markdown",
   "metadata": {},
   "source": [
    "L2 regularization is perhaps the most common form of regularization analogous to the penalty term in  **Ridge regression**. It penalizes the squared magnitude of the weights $\\boldsymbol w$ by adding the term $\\frac12 \\lambda w^2$ to the objective function that the algorithm is trying to optimize. $\\lambda$ is the regularization strength, also called the **shrinkage parameter** which can be tuned during training. \n",
    "\n",
    "The regularization term is defined as the Euclidean norm of the weight matrices, which sums over all the squared weights. It is multiplied by $\\frac12$ so that when the gradient is calculated we get $\\lambda w$.\n",
    "\n",
    "As the shrinkage parameter approaches infinity, the weights are driven down to near zero but **will not be exactly zero**. \n"
   ]
  },
  {
   "cell_type": "markdown",
   "metadata": {},
   "source": [
    "### Using L2 Regularization in Keras\n",
    "\n",
    "In Keras, regularization penalties are applied on a per-layer basis, that is, you specify the name of the regularizer API as you add a layer to the network. The `tf.keras.regularizers` module has a built-in L2 class that you can call using the following:\n"
   ]
  },
  {
   "cell_type": "code",
   "execution_count": 6,
   "metadata": {},
   "outputs": [
    {
     "data": {
      "text/plain": [
       "<keras.regularizers.L2 at 0x7fb8962f7810>"
      ]
     },
     "execution_count": 6,
     "metadata": {},
     "output_type": "execute_result"
    }
   ],
   "source": [
    "tf.keras.regularizers.l2(l=0.01) "
   ]
  },
  {
   "cell_type": "markdown",
   "metadata": {},
   "source": [
    "This object can be passed as an argument to a Dense layer:\n"
   ]
  },
  {
   "cell_type": "code",
   "execution_count": 7,
   "metadata": {},
   "outputs": [],
   "source": [
    "dense_layer = Dense(32, \n",
    "                activation=\"relu\", \n",
    "                kernel_regularizer=tf.keras.regularizers.l2(l=0.01))"
   ]
  },
  {
   "cell_type": "markdown",
   "metadata": {},
   "source": [
    "## L1 Regularization\n",
    "\n",
    "L1 regularization is another common form of regularization. It penalizes large weights $\\boldsymbol w$ by adding the term $\\lambda |w|$ to the objective function, where $\\lambda$ is the regularization strength. \n",
    "\n",
    "What differentiates L1 from L2 is that, when $\\lambda$ approaches infinity, L1 regularization can shrink the weights of the less important features to zero, which would be very useful if you also want automatic feature selection during training. \n",
    "\n",
    "<p style='color: blue'>The following figure illustrates how L1 and L2 work differently:</p>\n",
    "\n",
    "<center><img src=\"https://cf-courses-data.s3.us.cloud-object-storage.appdomain.cloud/IBMDeveloperSkillsNetwork-ML311-Coursera/labs/Module1/L3/images/L12_1.png\" width=\"65%\"></center>\n",
    "\n",
    "<p style=\"text-align:center; color:gray\">Source: An Introduction to Statistical Learning</p>\n"
   ]
  },
  {
   "cell_type": "markdown",
   "metadata": {},
   "source": [
    "In the figure above, the red ellipses represent the contours of the loss function that needs to be optimized during training, and the green areas on the left and right represent the **feasible regions** of the L1 and L2 constaints respectively. \n",
    "\n",
    "In the case of L1 (left), the ellipse would be able to intersect with the feasible region on an axis, which is when the weights become zero. However, for L2 (right), due to the round shape of the feasible region; that is, the L2 norm, the ellipse wouldn't intersect with the green circle on an axis, which is why the weights regularized by L2 can be close to zero but not equal to zero.\n",
    "\n",
    "We can also combine the L1 regularization and the L2 regularization to obtain the **Elastic Net regularization**: $\\frac12 \\lambda_1 w^2 + \\lambda_2 |w|$. $\\lambda_1$ and $\\lambda_2$ can be tuned as hyperparameters during training.\n"
   ]
  },
  {
   "cell_type": "markdown",
   "metadata": {},
   "source": [
    "### Using L1 Regularization in Keras\n",
    "\n",
    "Similar to how we used L2, `tf.keras.regularizers` module also has a built-in L1 class:\n"
   ]
  },
  {
   "cell_type": "code",
   "execution_count": 8,
   "metadata": {},
   "outputs": [],
   "source": [
    "dense_layer = Dense(32, \n",
    "            activation=\"relu\", \n",
    "            kernel_regularizer=tf.keras.regularizers.l1(l=0.01))"
   ]
  },
  {
   "cell_type": "markdown",
   "metadata": {},
   "source": [
    "If you don't need to specify a value for the regularization strength, you can also pass a string value to the `kernel_regularizer` argument:\n"
   ]
  },
  {
   "cell_type": "code",
   "execution_count": 9,
   "metadata": {},
   "outputs": [],
   "source": [
    "dense_layer = Dense(32, \n",
    "                activation=\"relu\", \n",
    "                kernel_regularizer=\"l1\")"
   ]
  },
  {
   "cell_type": "markdown",
   "metadata": {},
   "source": [
    "## Dropout\n",
    "\n",
    "During training, Dropout will keep a neuron active with some probability $\\boldsymbol p$ (a hyperparameter), or set it to zero otherwise. This regularization technique approximates training a large number of different neural networks in parallel.\n",
    "\n",
    "<center><img src=\"https://cf-courses-data.s3.us.cloud-object-storage.appdomain.cloud/IBMDeveloperSkillsNetwork-ML311-Coursera/labs/Module1/L3/images/DO_1.png\" width=\"60%\"></center>\n",
    "\n",
    "Picture from the [Dropout paper](http://www.cs.toronto.edu/~rsalakhu/papers/srivastava14a.pdf)\n",
    "\n",
    "Dropout can be interpreted as sampling a neural network within the full neural network and only updating the weights of the sampled network. By doing so, each iteration is using a different model architecture and has a different \"view\" of the configured layers. This adds noise to the training process and perhaps breaks up situations where network layers co-adapt to correct prior mistakes, making the network more robust.\n",
    "\n",
    "Note that **Dropout is not used during prediction**.\n"
   ]
  },
  {
   "cell_type": "markdown",
   "metadata": {},
   "source": [
    "### Using Dropout in Keras\n",
    "\n",
    "In Keras, Dropout can be applied using the Dropout class from **keras.layers**. A dropout rate can be specified when creating the dropout layer, which is the percentage of neurons that will be turned off during one update.\n"
   ]
  },
  {
   "cell_type": "code",
   "execution_count": 10,
   "metadata": {},
   "outputs": [],
   "source": [
    "from tensorflow.keras.layers import Dropout\n",
    "\n",
    "dropout_layer = Dropout(rate=0.2)"
   ]
  },
  {
   "cell_type": "markdown",
   "metadata": {},
   "source": [
    "## Batch Normalization\n",
    "\n",
    "Training deep neural networks is complicated, because the distribution of each layer's inputs changes as the weights of the previous layers get updated during back propagation. This can result in the learning algorithm always pursuing a moving target. In the [original paper](https://arxiv.org/abs/1502.03167) of Batch Normalization, the change in the distribution of inputs to layers in the network is referred to as **\"internal covariate shift\"**. This slows down the training by requiring lower learning rates and careful parameter initialization, making it hard for the model to generalize well. Sometimes, if the training samples are statistically too different from the testing samples, it is considered a covariate shift.\n"
   ]
  },
  {
   "cell_type": "markdown",
   "metadata": {},
   "source": [
    "### What is Batch Normalization?\n",
    "\n",
    "Batch normalization is a technique for training very deep neural networks that normalizes the inputs to a layer for every mini-batch. This has the effect of stabilizing the learning process and dramatically reducing the number of training epochs required to train deep networks.\n",
    "\n",
    "**Batch**, or **mini-batch**, is a collection of samples that will be passed through the network at one time for the weights update. **Normalization** is the process of transforming the data to have a mean 0 and a standard deviation 1 (thus follows the standard normal distribution). \n",
    "\n",
    "In a neural network, batch normalization is achieved through a normalization layer between the fully connected Dense layers, which fixes the means and variances of each layer's inputs. This way, there is not much change in the distribution of each layer input, and the layers in the network can learn from back-propagation simultaneously without having to wait for the previous layers to learn. This accelerates the training process.\n",
    "\n",
    "<center><img src=\"https://cf-courses-data.s3.us.cloud-object-storage.appdomain.cloud/IBMDeveloperSkillsNetwork-ML311-Coursera/labs/Module1/L3/images/BN_6.png\" width=\"70%\"></center>\n",
    "\n",
    "Image credits to [Ilango Rajagopal](https://medium.com/@ilango100/batch-normalization-speed-up-neural-network-training-245e39a62f85)\n"
   ]
  },
  {
   "cell_type": "markdown",
   "metadata": {},
   "source": [
    "### How does Batch Normalization work?\n",
    "\n",
    "Denote by $\\boldsymbol B$ a mini-batch of size $\\boldsymbol m$ of the training set, for a layer with **_d_**-dimensional input $x = (x^{(1)},...,x^{(d)})$, each dimension of its input is then normalized as:\n",
    "$$\n",
    "\\hat{x}_{i}^{k} = \\frac {x_i ^{k}-\\mu_B^{k}} {\\sqrt{{\\sigma_B^{k}}^2 +\\epsilon}}\n",
    "$$\n",
    "\n",
    "where $k \\in [1,d]$and $i \\in [1,m]$; $\\mu_B^{k}$ and ${\\sigma_B^{k}}^2$are the **per dimension mean and variance** of $\\boldsymbol B$ such that:\n"
   ]
  },
  {
   "cell_type": "markdown",
   "metadata": {},
   "source": [
    "$$\n",
    "\\mu_B^{k} = \\frac{1}{m} \\sum_{i=1}^m x_i^{k}, {\\sigma_B^{k}}^2 = \\frac{1}{m} \\sum_{i=1}^m (x_i^{k}-\\mu_B^{k})^2\n",
    "$$\n"
   ]
  },
  {
   "cell_type": "markdown",
   "metadata": {},
   "source": [
    "$\\epsilon$ is added in the denominator for numerical stability and is an arbitrarily small constant. The resulting normalized activation $\\hat{x}^{k}$ has zero mean and unit variance if $\\epsilon$ is not taken into account. To restore the representation power of the network, a transformation step then follows as\n",
    "\n",
    "$$\n",
    "y_i^{k} = \\gamma^{k} \\hat{x}_{i}^{k} +\\beta^{k}\n",
    "$$\n",
    "\n",
    "where the parameters $\\gamma^{k}$ and $\\beta^{k}$ are subsequently learned in the optimization process. You can refer to [wikipedia](https://en.wikipedia.org/wiki/Batch_normalization) for more mathematical details of batch normalization.\n"
   ]
  },
  {
   "cell_type": "markdown",
   "metadata": {},
   "source": [
    "<p style='color: blue'>What are the benefits of Batch Normalization?</p>\n",
    "\n",
    "1. It tackles the internal covariate shift issue by always normalizing the input signals, thus accelerating the training of deep neural nets and increasing the generalization power of the networks.\n",
    "2. It makes the optimization landscape smoother, reducing the magnitude of variations in the gradient and the loss, making the training faster and easier.\n",
    "3. It acts as a regularizer by introducing random noises, as each minibatch at each layer is normalized using its own mean and standard deviation during training.\n"
   ]
  },
  {
   "cell_type": "markdown",
   "metadata": {},
   "source": [
    "### Using Batch Normalization in Keras\n",
    "\n",
    "In Keras, you can add a Batch Norm layer between the Dense layers by calling `BatchNormalization()` from **keras.layers**. Here is a code example:\n"
   ]
  },
  {
   "cell_type": "code",
   "execution_count": 11,
   "metadata": {},
   "outputs": [],
   "source": [
    "from tensorflow.keras.layers import Dense, BatchNormalization\n",
    "\n",
    "batchnorm_layer = BatchNormalization()"
   ]
  },
  {
   "cell_type": "markdown",
   "metadata": {},
   "source": [
    "## Example 1: Apply regularization techniques on simulated data\n",
    "\n",
    "In this example, we will use the **generate_data** function to simulate a degree-3 polynomial dataset with some random noise. We will intentionally overfit the data by creating polynomial features of the data, and then we will observe whether the four regularization techniques can mitigate overfitting in this case.\n"
   ]
  },
  {
   "cell_type": "markdown",
   "metadata": {},
   "source": [
    "Let's first visualize the polynomial data:\n"
   ]
  },
  {
   "cell_type": "code",
   "execution_count": 12,
   "metadata": {},
   "outputs": [
    {
     "data": {
      "image/png": "[encoded data removed]",
      "text/plain": [
       "<Figure size 640x480 with 1 Axes>"
      ]
     },
     "metadata": {},
     "output_type": "display_data"
    }
   ],
   "source": [
    "def generate_data(seed=43,std=0.1,samples=500):\n",
    "    np.random.seed(seed)\n",
    "    X =np.linspace(-1,1,samples)\n",
    "    f = X**3 +2*X**2 -X \n",
    "    y=f+np.random.randn(samples)*std\n",
    "    \n",
    "    return X, y\n",
    "\n",
    "\n",
    "X,y = generate_data()\n",
    "f = X**3 +2*X**2 -X\n",
    "plt.plot(X, y,'rx',label=\"data samples\")\n",
    "plt.plot(X, f,label=\"true function\")\n",
    "plt.title(\"data and true function\")\n",
    "plt.legend()\n",
    "plt.show()"
   ]
  },
  {
   "cell_type": "markdown",
   "metadata": {},
   "source": [
    "let's also add some outliers to y:\n"
   ]
  },
  {
   "cell_type": "code",
   "execution_count": 13,
   "metadata": {},
   "outputs": [
    {
     "data": {
      "image/png": "[encoded data removed]",
      "text/plain": [
       "<Figure size 640x480 with 1 Axes>"
      ]
     },
     "metadata": {},
     "output_type": "display_data"
    }
   ],
   "source": [
    "y[20:30] = 0\n",
    "y[100:110] = 2\n",
    "y[180:190] = 4\n",
    "y[260:270] = -2\n",
    "y[340:350] = -3\n",
    "y[420:430] = 4\n",
    "\n",
    "plt.plot(X, y,'rx',label=\"data samples\")\n",
    "plt.plot(X, f,label=\"true function\")\n",
    "plt.legend()\n",
    "plt.show()"
   ]
  },
  {
   "cell_type": "markdown",
   "metadata": {},
   "source": [
    "Let's use an overly complex neural network to fit our simulated data.\n"
   ]
  },
  {
   "cell_type": "code",
   "execution_count": 14,
   "metadata": {},
   "outputs": [
    {
     "name": "stderr",
     "output_type": "stream",
     "text": [
      "WARNING:absl:`lr` is deprecated, please use `learning_rate` instead, or use the legacy optimizer, e.g.,tf.keras.optimizers.legacy.Adam.\n"
     ]
    },
    {
     "name": "stdout",
     "output_type": "stream",
     "text": [
      "Epoch 1/20\n",
      "5/5 [==============================] - 4s 25ms/step - loss: 1.5819\n",
      "Epoch 2/20\n",
      "5/5 [==============================] - 0s 31ms/step - loss: 1.1635\n",
      "Epoch 3/20\n",
      "5/5 [==============================] - 0s 40ms/step - loss: 0.9895\n",
      "Epoch 4/20\n",
      "5/5 [==============================] - 0s 35ms/step - loss: 0.9712\n",
      "Epoch 5/20\n",
      "5/5 [==============================] - 0s 30ms/step - loss: 0.8969\n",
      "Epoch 6/20\n",
      "5/5 [==============================] - 0s 35ms/step - loss: 0.8849\n",
      "Epoch 7/20\n",
      "5/5 [==============================] - 0s 30ms/step - loss: 0.8359\n",
      "Epoch 8/20\n",
      "5/5 [==============================] - 0s 30ms/step - loss: 0.8150\n",
      "Epoch 9/20\n",
      "5/5 [==============================] - 0s 31ms/step - loss: 0.7803\n",
      "Epoch 10/20\n",
      "5/5 [==============================] - 0s 30ms/step - loss: 0.7633\n",
      "Epoch 11/20\n",
      "5/5 [==============================] - 0s 36ms/step - loss: 0.7495\n",
      "Epoch 12/20\n",
      "5/5 [==============================] - 0s 20ms/step - loss: 0.7433\n",
      "Epoch 13/20\n",
      "5/5 [==============================] - 0s 21ms/step - loss: 0.7294\n",
      "Epoch 14/20\n",
      "5/5 [==============================] - 0s 16ms/step - loss: 0.7206\n",
      "Epoch 15/20\n",
      "5/5 [==============================] - 0s 20ms/step - loss: 0.7132\n",
      "Epoch 16/20\n",
      "5/5 [==============================] - 0s 25ms/step - loss: 0.7064\n",
      "Epoch 17/20\n",
      "5/5 [==============================] - 0s 25ms/step - loss: 0.7036\n",
      "Epoch 18/20\n",
      "5/5 [==============================] - 0s 31ms/step - loss: 0.6976\n",
      "Epoch 19/20\n",
      "5/5 [==============================] - 0s 25ms/step - loss: 0.7001\n",
      "Epoch 20/20\n",
      "5/5 [==============================] - 0s 27ms/step - loss: 0.6941\n"
     ]
    },
    {
     "data": {
      "text/plain": [
       "<keras.callbacks.History at 0x7fb894700450>"
      ]
     },
     "execution_count": 14,
     "metadata": {},
     "output_type": "execute_result"
    }
   ],
   "source": [
    "from tensorflow.keras.layers import Dense\n",
    "from tensorflow.keras.optimizers import Adam\n",
    "\n",
    "model = Sequential()\n",
    "model.add(Dense(1000, activation='relu',input_shape=(1,)))\n",
    "model.add(Dense(120,activation='relu'))\n",
    "model.add(Dense(120,activation='relu'))\n",
    "model.add(Dense(1))\n",
    "\n",
    "model.compile(optimizer=Adam(lr=1e-3), loss=\"mean_squared_error\")\n",
    "model.fit(X, y,  epochs=20, batch_size=100)"
   ]
  },
  {
   "cell_type": "markdown",
   "metadata": {},
   "source": [
    "When we plot out the original data and the predictions, we can see that because the model's weights are not regularized, it tends to over fit  on new data: \n"
   ]
  },
  {
   "cell_type": "code",
   "execution_count": 15,
   "metadata": {},
   "outputs": [
    {
     "name": "stdout",
     "output_type": "stream",
     "text": [
      "16/16 [==============================] - 1s 9ms/step\n"
     ]
    },
    {
     "data": {
      "image/png": "[encoded data removed]",
      "text/plain": [
       "<Figure size 640x480 with 1 Axes>"
      ]
     },
     "metadata": {},
     "output_type": "display_data"
    }
   ],
   "source": [
    "y_pred = model.predict(X)\n",
    "plt.plot(X, y,'rx',label=\"data samples\")\n",
    "plt.plot(X, f,label=\"true function\")\n",
    "plt.plot(X, y_pred ,label=\"predicted function\")\n",
    "plt.legend()\n",
    "plt.show()"
   ]
  },
  {
   "cell_type": "markdown",
   "metadata": {},
   "source": [
    "We can also calculate the mean square error:\n"
   ]
  },
  {
   "cell_type": "code",
   "execution_count": 16,
   "metadata": {},
   "outputs": [
    {
     "name": "stdout",
     "output_type": "stream",
     "text": [
      "Mean squared error is 1.9150505125598971\n",
      "\n"
     ]
    }
   ],
   "source": [
    "no_reg = np.mean((y-y_pred)**2)\n",
    "print(f\"Mean squared error is {no_reg}\\n\")"
   ]
  },
  {
   "cell_type": "markdown",
   "metadata": {},
   "source": [
    "Now let's apply the four regularization techniques: **L1, L2, Drop out, and Batch Normalization** and see which works best for our data!\n"
   ]
  },
  {
   "cell_type": "markdown",
   "metadata": {},
   "source": [
    "### L1 (Lasso)\n"
   ]
  },
  {
   "cell_type": "code",
   "execution_count": 17,
   "metadata": {},
   "outputs": [
    {
     "name": "stderr",
     "output_type": "stream",
     "text": [
      "WARNING:absl:`lr` is deprecated, please use `learning_rate` instead, or use the legacy optimizer, e.g.,tf.keras.optimizers.legacy.Adam.\n"
     ]
    },
    {
     "name": "stdout",
     "output_type": "stream",
     "text": [
      "Epoch 1/20\n",
      "5/5 [==============================] - 3s 30ms/step - loss: 6.2150\n",
      "Epoch 2/20\n",
      "5/5 [==============================] - 0s 25ms/step - loss: 5.3795\n",
      "Epoch 3/20\n",
      "5/5 [==============================] - 0s 25ms/step - loss: 4.7152\n",
      "Epoch 4/20\n",
      "5/5 [==============================] - 0s 25ms/step - loss: 4.2877\n",
      "Epoch 5/20\n",
      "5/5 [==============================] - 0s 25ms/step - loss: 3.8197\n",
      "Epoch 6/20\n",
      "5/5 [==============================] - 0s 31ms/step - loss: 3.4109\n",
      "Epoch 7/20\n",
      "5/5 [==============================] - 0s 22ms/step - loss: 3.0424\n",
      "Epoch 8/20\n",
      "5/5 [==============================] - 0s 25ms/step - loss: 2.6980\n",
      "Epoch 9/20\n",
      "5/5 [==============================] - 0s 25ms/step - loss: 2.3936\n",
      "Epoch 10/20\n",
      "5/5 [==============================] - 0s 21ms/step - loss: 2.1224\n",
      "Epoch 11/20\n",
      "5/5 [==============================] - 0s 20ms/step - loss: 1.8884\n",
      "Epoch 12/20\n",
      "5/5 [==============================] - 0s 20ms/step - loss: 1.6943\n",
      "Epoch 13/20\n",
      "5/5 [==============================] - 0s 21ms/step - loss: 1.5308\n",
      "Epoch 14/20\n",
      "5/5 [==============================] - 0s 25ms/step - loss: 1.4077\n",
      "Epoch 15/20\n",
      "5/5 [==============================] - 0s 30ms/step - loss: 1.3221\n",
      "Epoch 16/20\n",
      "5/5 [==============================] - 0s 30ms/step - loss: 1.2599\n",
      "Epoch 17/20\n",
      "5/5 [==============================] - 0s 25ms/step - loss: 1.2070\n",
      "Epoch 18/20\n",
      "5/5 [==============================] - 0s 20ms/step - loss: 1.1634\n",
      "Epoch 19/20\n",
      "5/5 [==============================] - 0s 25ms/step - loss: 1.1296\n",
      "Epoch 20/20\n",
      "5/5 [==============================] - 0s 30ms/step - loss: 1.1100\n"
     ]
    },
    {
     "data": {
      "text/plain": [
       "<keras.callbacks.History at 0x7fb884703cd0>"
      ]
     },
     "execution_count": 17,
     "metadata": {},
     "output_type": "execute_result"
    }
   ],
   "source": [
    "model_l1 = Sequential()\n",
    "\n",
    "model_l1.add(Dense(1000, activation='relu',input_shape=(1,),kernel_regularizer=keras.regularizers.l1(l=0.01)))\n",
    "model_l1.add(Dense(120,activation='relu',kernel_regularizer=keras.regularizers.l1(l=0.001)))\n",
    "model_l1.add(Dense(120,activation='relu'))\n",
    "model_l1.add(Dense(1))\n",
    "model_l1.compile(optimizer=Adam(lr=1e-3), loss=\"mean_squared_error\")\n",
    "model_l1.fit(X, y,  epochs=20, batch_size=100)"
   ]
  },
  {
   "cell_type": "markdown",
   "metadata": {},
   "source": [
    "We can plot the model, we see the model tracks the data: \n"
   ]
  },
  {
   "cell_type": "code",
   "execution_count": 18,
   "metadata": {},
   "outputs": [
    {
     "name": "stdout",
     "output_type": "stream",
     "text": [
      "16/16 [==============================] - 0s 6ms/step\n"
     ]
    },
    {
     "data": {
      "image/png": "[encoded data removed]",
      "text/plain": [
       "<Figure size 640x480 with 1 Axes>"
      ]
     },
     "metadata": {},
     "output_type": "display_data"
    }
   ],
   "source": [
    "y_pred = model_l1.predict(X)\n",
    "plt.plot(X, y,'rx',label=\"data samples\")\n",
    "plt.plot(X, f,label=\"true function\")\n",
    "plt.plot(X, y_pred,label=\"predicted function\")\n",
    "plt.legend()\n",
    "plt.show()"
   ]
  },
  {
   "cell_type": "markdown",
   "metadata": {},
   "source": [
    "We can also calculate the mean square error; we see L1 regulation decreases the error:\n"
   ]
  },
  {
   "cell_type": "code",
   "execution_count": 19,
   "metadata": {},
   "outputs": [
    {
     "name": "stdout",
     "output_type": "stream",
     "text": [
      "Mean squared error is 1.659665442404913\n",
      "\n"
     ]
    }
   ],
   "source": [
    "l1 = np.mean((y-y_pred)**2)\n",
    "print(f\"Mean squared error is {l1}\\n\")"
   ]
  },
  {
   "cell_type": "markdown",
   "metadata": {},
   "source": [
    "### L2 (Ridge)\n"
   ]
  },
  {
   "cell_type": "code",
   "execution_count": 20,
   "metadata": {},
   "outputs": [
    {
     "name": "stderr",
     "output_type": "stream",
     "text": [
      "WARNING:absl:`lr` is deprecated, please use `learning_rate` instead, or use the legacy optimizer, e.g.,tf.keras.optimizers.legacy.Adam.\n"
     ]
    },
    {
     "name": "stdout",
     "output_type": "stream",
     "text": [
      "Epoch 1/20\n",
      "10/10 [==============================] - 3s 105ms/step - loss: 1.1924 - val_loss: 3.8241\n",
      "Epoch 2/20\n",
      "10/10 [==============================] - 0s 38ms/step - loss: 0.7623 - val_loss: 5.2007\n",
      "Epoch 3/20\n",
      "10/10 [==============================] - 0s 36ms/step - loss: 0.7226 - val_loss: 4.0365\n",
      "Epoch 4/20\n",
      "10/10 [==============================] - 0s 36ms/step - loss: 0.7072 - val_loss: 3.9641\n",
      "Epoch 5/20\n",
      "10/10 [==============================] - 0s 27ms/step - loss: 0.6932 - val_loss: 4.5402\n",
      "Epoch 6/20\n",
      "10/10 [==============================] - 0s 31ms/step - loss: 0.6878 - val_loss: 3.6468\n",
      "Epoch 7/20\n",
      "10/10 [==============================] - 0s 34ms/step - loss: 0.6793 - val_loss: 3.9084\n",
      "Epoch 8/20\n",
      "10/10 [==============================] - 0s 46ms/step - loss: 0.6800 - val_loss: 3.8145\n",
      "Epoch 9/20\n",
      "10/10 [==============================] - 0s 37ms/step - loss: 0.6655 - val_loss: 3.0266\n",
      "Epoch 10/20\n",
      "10/10 [==============================] - 0s 42ms/step - loss: 0.6752 - val_loss: 3.4307\n",
      "Epoch 11/20\n",
      "10/10 [==============================] - 0s 34ms/step - loss: 0.6701 - val_loss: 2.9494\n",
      "Epoch 12/20\n",
      "10/10 [==============================] - 0s 31ms/step - loss: 0.6654 - val_loss: 2.9581\n",
      "Epoch 13/20\n",
      "10/10 [==============================] - 0s 33ms/step - loss: 0.6609 - val_loss: 2.7837\n",
      "Epoch 14/20\n",
      "10/10 [==============================] - 0s 34ms/step - loss: 0.7234 - val_loss: 2.5284\n",
      "Epoch 15/20\n",
      "10/10 [==============================] - 0s 42ms/step - loss: 0.6898 - val_loss: 3.2651\n",
      "Epoch 16/20\n",
      "10/10 [==============================] - 0s 40ms/step - loss: 0.6693 - val_loss: 2.8462\n",
      "Epoch 17/20\n",
      "10/10 [==============================] - 0s 31ms/step - loss: 0.6811 - val_loss: 2.8331\n",
      "Epoch 18/20\n",
      "10/10 [==============================] - 0s 29ms/step - loss: 0.6570 - val_loss: 2.5710\n",
      "Epoch 19/20\n",
      "10/10 [==============================] - 0s 31ms/step - loss: 0.6482 - val_loss: 2.5467\n",
      "Epoch 20/20\n",
      "10/10 [==============================] - 0s 36ms/step - loss: 0.6465 - val_loss: 2.2983\n"
     ]
    },
    {
     "data": {
      "text/plain": [
       "<keras.callbacks.History at 0x7fb88c193550>"
      ]
     },
     "execution_count": 20,
     "metadata": {},
     "output_type": "execute_result"
    }
   ],
   "source": [
    "model_l2 = Sequential()\n",
    "\n",
    "model_l2.add(Dense(1000, activation='relu',input_shape=(1,),kernel_regularizer=keras.regularizers.l2(l=0.0001)))\n",
    "model_l2.add(Dense(120,activation='relu',kernel_regularizer=keras.regularizers.l2(l=0.0001)))\n",
    "model_l2.add(Dense(120,activation='relu',kernel_regularizer=keras.regularizers.l2(l=0.0001)))\n",
    "model_l2.add(Dense(1))\n",
    "model_l2.compile(optimizer=Adam(lr=1e-3), loss=\"mean_squared_error\")\n",
    "model_l2.fit(X, y, validation_split=0.2, epochs=20, batch_size=40)"
   ]
  },
  {
   "cell_type": "markdown",
   "metadata": {},
   "source": [
    "We can plot the model, we can also calculate the mean square error; we see L2 regulation can also improve the result by a little bit:\n"
   ]
  },
  {
   "cell_type": "code",
   "execution_count": 21,
   "metadata": {},
   "outputs": [
    {
     "name": "stdout",
     "output_type": "stream",
     "text": [
      "16/16 [==============================] - 0s 7ms/step\n"
     ]
    },
    {
     "data": {
      "text/plain": [
       "<matplotlib.legend.Legend at 0x7fb88432bc10>"
      ]
     },
     "execution_count": 21,
     "metadata": {},
     "output_type": "execute_result"
    },
    {
     "data": {
      "image/png": "[encoded data removed]",
      "text/plain": [
       "<Figure size 640x480 with 1 Axes>"
      ]
     },
     "metadata": {},
     "output_type": "display_data"
    }
   ],
   "source": [
    "y_pred = model_l2.predict(X)\n",
    "plt.plot(X, y,'rx',label=\"data samples\")\n",
    "plt.plot(X, f,label=\"true function\")\n",
    "plt.plot(X, y_pred ,label=\"predicted function\")\n",
    "plt.legend()"
   ]
  },
  {
   "cell_type": "code",
   "execution_count": 22,
   "metadata": {},
   "outputs": [
    {
     "name": "stdout",
     "output_type": "stream",
     "text": [
      "Mean squared error is 1.7939027266423986\n",
      "\n"
     ]
    }
   ],
   "source": [
    "l2 = np.mean((y-y_pred)**2)\n",
    "print(f\"Mean squared error is {l2}\\n\")"
   ]
  },
  {
   "cell_type": "markdown",
   "metadata": {},
   "source": [
    "### Dropout\n"
   ]
  },
  {
   "cell_type": "code",
   "execution_count": 23,
   "metadata": {},
   "outputs": [
    {
     "name": "stderr",
     "output_type": "stream",
     "text": [
      "WARNING:absl:`lr` is deprecated, please use `learning_rate` instead, or use the legacy optimizer, e.g.,tf.keras.optimizers.legacy.Adam.\n"
     ]
    },
    {
     "name": "stdout",
     "output_type": "stream",
     "text": [
      "Epoch 1/20\n",
      "10/10 [==============================] - 3s 60ms/step - loss: 1.1794 - val_loss: 4.1154\n",
      "Epoch 2/20\n",
      "10/10 [==============================] - 0s 27ms/step - loss: 0.7688 - val_loss: 5.3659\n",
      "Epoch 3/20\n",
      "10/10 [==============================] - 0s 48ms/step - loss: 0.6999 - val_loss: 4.0589\n",
      "Epoch 4/20\n",
      "10/10 [==============================] - 0s 44ms/step - loss: 0.6966 - val_loss: 4.0982\n",
      "Epoch 5/20\n",
      "10/10 [==============================] - 0s 38ms/step - loss: 0.6795 - val_loss: 3.8557\n",
      "Epoch 6/20\n",
      "10/10 [==============================] - 0s 40ms/step - loss: 0.6752 - val_loss: 4.1112\n",
      "Epoch 7/20\n",
      "10/10 [==============================] - 0s 40ms/step - loss: 0.6790 - val_loss: 3.5911\n",
      "Epoch 8/20\n",
      "10/10 [==============================] - 1s 54ms/step - loss: 0.6745 - val_loss: 3.1042\n",
      "Epoch 9/20\n",
      "10/10 [==============================] - 0s 49ms/step - loss: 0.6646 - val_loss: 3.6701\n",
      "Epoch 10/20\n",
      "10/10 [==============================] - 0s 40ms/step - loss: 0.6728 - val_loss: 2.9134\n",
      "Epoch 11/20\n",
      "10/10 [==============================] - 0s 33ms/step - loss: 0.6696 - val_loss: 2.8471\n",
      "Epoch 12/20\n",
      "10/10 [==============================] - 0s 40ms/step - loss: 0.6568 - val_loss: 3.1607\n",
      "Epoch 13/20\n",
      "10/10 [==============================] - 0s 33ms/step - loss: 0.6564 - val_loss: 2.6765\n",
      "Epoch 14/20\n",
      "10/10 [==============================] - 0s 31ms/step - loss: 0.6538 - val_loss: 2.6022\n",
      "Epoch 15/20\n",
      "10/10 [==============================] - 0s 44ms/step - loss: 0.6571 - val_loss: 2.9153\n",
      "Epoch 16/20\n",
      "10/10 [==============================] - 0s 36ms/step - loss: 0.6575 - val_loss: 2.5687\n",
      "Epoch 17/20\n",
      "10/10 [==============================] - 0s 27ms/step - loss: 0.6411 - val_loss: 2.5132\n",
      "Epoch 18/20\n",
      "10/10 [==============================] - 0s 33ms/step - loss: 0.6438 - val_loss: 2.3728\n",
      "Epoch 19/20\n",
      "10/10 [==============================] - 0s 22ms/step - loss: 0.6427 - val_loss: 2.1265\n",
      "Epoch 20/20\n",
      "10/10 [==============================] - 0s 22ms/step - loss: 0.6508 - val_loss: 2.2198\n"
     ]
    },
    {
     "data": {
      "text/plain": [
       "<keras.callbacks.History at 0x7fb8841d20d0>"
      ]
     },
     "execution_count": 23,
     "metadata": {},
     "output_type": "execute_result"
    }
   ],
   "source": [
    "model_dp = Sequential()\n",
    "\n",
    "model_dp.add(Dense(1000, activation='relu',input_shape=(1,)))\n",
    "model_dp.add(Dropout(0.1))\n",
    "model_dp.add(Dense(120,activation='relu'))\n",
    "model_dp.add(Dropout(0.1))\n",
    "model_dp.add(Dense(120,activation='relu'))\n",
    "model_dp.add(Dropout(0.1))\n",
    "model_dp.add(Dense(1))\n",
    "model_dp.compile(optimizer=Adam(lr=1e-3), loss=\"mean_squared_error\")\n",
    "model_dp.fit(X, y, validation_split=0.2, epochs=20, batch_size=40)"
   ]
  },
  {
   "cell_type": "markdown",
   "metadata": {},
   "source": [
    "Let's plot the prediction and calculate the mean square error;\n"
   ]
  },
  {
   "cell_type": "code",
   "execution_count": 24,
   "metadata": {},
   "outputs": [
    {
     "name": "stdout",
     "output_type": "stream",
     "text": [
      "16/16 [==============================] - 0s 6ms/step\n"
     ]
    },
    {
     "data": {
      "text/plain": [
       "<matplotlib.legend.Legend at 0x7fb8841f1910>"
      ]
     },
     "execution_count": 24,
     "metadata": {},
     "output_type": "execute_result"
    },
    {
     "data": {
      "image/png": "[encoded data removed]",
      "text/plain": [
       "<Figure size 640x480 with 1 Axes>"
      ]
     },
     "metadata": {},
     "output_type": "display_data"
    }
   ],
   "source": [
    "y_pred = model_dp.predict(X)\n",
    "plt.plot(X, y,'rx',label=\"data samples\")\n",
    "plt.plot(X, f,label=\"true function\")\n",
    "plt.plot(X, y_pred ,label=\"predicted function\")\n",
    "plt.legend()"
   ]
  },
  {
   "cell_type": "code",
   "execution_count": 25,
   "metadata": {},
   "outputs": [
    {
     "name": "stdout",
     "output_type": "stream",
     "text": [
      "Mean squared error is 1.7990009704036807\n",
      "\n"
     ]
    }
   ],
   "source": [
    "dp = np.mean((y-y_pred)**2)\n",
    "print(f\"Mean squared error is {dp}\\n\")"
   ]
  },
  {
   "cell_type": "markdown",
   "metadata": {},
   "source": [
    "### Batch Norm\n"
   ]
  },
  {
   "cell_type": "code",
   "execution_count": null,
   "metadata": {},
   "outputs": [
    {
     "name": "stderr",
     "output_type": "stream",
     "text": [
      "WARNING:absl:`lr` is deprecated, please use `learning_rate` instead, or use the legacy optimizer, e.g.,tf.keras.optimizers.legacy.Adam.\n"
     ]
    },
    {
     "name": "stdout",
     "output_type": "stream",
     "text": [
      "Epoch 1/20\n",
      "10/10 [==============================] - 4s 70ms/step - loss: 0.9579 - val_loss: 2.8517\n",
      "Epoch 2/20\n",
      "10/10 [==============================] - 0s 24ms/step - loss: 0.7232 - val_loss: 2.8769\n",
      "Epoch 3/20\n",
      "10/10 [==============================] - 0s 38ms/step - loss: 0.7299 - val_loss: 2.8905\n",
      "Epoch 4/20\n",
      "10/10 [==============================] - 0s 42ms/step - loss: 0.6785 - val_loss: 2.9367\n",
      "Epoch 5/20\n",
      "10/10 [==============================] - 0s 31ms/step - loss: 0.7647 - val_loss: 2.8327\n",
      "Epoch 6/20\n",
      "10/10 [==============================] - 0s 36ms/step - loss: 0.6945 - val_loss: 2.8476\n",
      "Epoch 7/20\n",
      "10/10 [==============================] - 0s 38ms/step - loss: 0.6975 - val_loss: 2.8784\n",
      "Epoch 8/20\n",
      "10/10 [==============================] - 0s 34ms/step - loss: 0.6364 - val_loss: 2.7934\n",
      "Epoch 9/20\n",
      "10/10 [==============================] - 0s 49ms/step - loss: 0.6280 - val_loss: 2.7811\n",
      "Epoch 10/20\n",
      " 1/10 [==>...........................] - ETA: 0s - loss: 0.6007"
     ]
    }
   ],
   "source": [
    "model_bn = Sequential()\n",
    "\n",
    "model_bn.add(Dense(1000, activation='relu',input_shape=(1,)))\n",
    "model_bn.add(BatchNormalization())\n",
    "model_bn.add(Dense(120,activation='relu'))\n",
    "\n",
    "model_bn.add(Dense(120,activation='relu'))\n",
    "model_bn.add(Dense(1))\n",
    "model_bn.compile(optimizer=Adam(lr=1e-3), loss=\"mean_squared_error\")\n",
    "model_bn.fit(X, y, validation_split=0.2, epochs=20, batch_size=40)"
   ]
  },
  {
   "cell_type": "markdown",
   "metadata": {},
   "source": [
    "We can observe that due to a stronger regularization of Batch Normalization, the model does not seem to fit the data very well. However, the mean square error actually shows a big improvement.\n"
   ]
  },
  {
   "cell_type": "code",
   "execution_count": null,
   "metadata": {},
   "outputs": [],
   "source": [
    "y_pred = model_bn.predict(X)\n",
    "plt.plot(X, y,'rx',label=\"data samples\")\n",
    "plt.plot(X, f,label=\"true function\")\n",
    "plt.plot(X, y_pred ,label=\"predicted function\")\n",
    "plt.legend()"
   ]
  },
  {
   "cell_type": "code",
   "execution_count": null,
   "metadata": {},
   "outputs": [],
   "source": [
    "bn = np.mean((y-y_pred)**2)\n",
    "print(f\"Mean squared error is {bn}\\n\")"
   ]
  },
  {
   "cell_type": "markdown",
   "metadata": {},
   "source": [
    "## Data Shuffling\n",
    "\n",
    "To apply data shuffling to avoid overfitting, we can simpy call `shuffle=True` when fitting the model.\n"
   ]
  },
  {
   "cell_type": "code",
   "execution_count": null,
   "metadata": {},
   "outputs": [],
   "source": [
    "model_sh = Sequential()\n",
    "\n",
    "model_sh.add(Dense(1000, activation='relu',input_shape=(1,)))\n",
    "model_sh.add(Dense(120,activation='relu'))\n",
    "model_sh.add(Dense(120,activation='relu'))\n",
    "model_sh.add(Dense(1))\n",
    "\n",
    "model_sh.compile(optimizer=Adam(lr=1e-3), loss=\"mean_squared_error\")\n",
    "model_sh.fit(X, y, validation_split=0.2, epochs=20, batch_size=40,shuffle=True)"
   ]
  },
  {
   "cell_type": "markdown",
   "metadata": {},
   "source": [
    "We can also calculate the mean square error on the data. Data shuffling doesn't seem to be very effective for our data.\n"
   ]
  },
  {
   "cell_type": "code",
   "execution_count": null,
   "metadata": {},
   "outputs": [],
   "source": [
    "y_pred = model_sh.predict(X)\n",
    "\n",
    "plt.plot(X, y,'rx',label=\"data samples\")\n",
    "plt.plot(X, f,label=\"true function\")\n",
    "plt.plot(X, y_pred ,label=\"predicted function\")\n",
    "plt.legend()"
   ]
  },
  {
   "cell_type": "code",
   "execution_count": null,
   "metadata": {},
   "outputs": [],
   "source": [
    "sh = np.mean((y-y_pred)**2)\n",
    "print(f\"Mean squared error is {sh}\\n\")"
   ]
  },
  {
   "cell_type": "markdown",
   "metadata": {},
   "source": [
    "Let's compare the mean squared errors of the networks trained using different regularization techniques:\n"
   ]
  },
  {
   "cell_type": "code",
   "execution_count": null,
   "metadata": {},
   "outputs": [],
   "source": [
    "names = ['No_reg','L1','L2','Drop_out','Batch_norm','Data_shuffling']\n",
    "error = [no_reg, l1, l2, dp, bn, sh]\n",
    "\n",
    "plt.figure(figsize=(8, 4))\n",
    "plt.bar(names, error, width=0.6)\n",
    "plt.title(\"Mean Squared Error\", fontsize=13)\n",
    "\n",
    "for i, err in enumerate(error):\n",
    "    plt.text(i-0.2, err+0.1, str(round(err,3)), color='blue', va='center') "
   ]
  },
  {
   "cell_type": "markdown",
   "metadata": {},
   "source": [
    "Given the comparison of the mean squared errors, we can conclude that Batch Normalization works best for the simulated dataset. However, one takeaway I hope you to have is that for model training or machine learning in general, there are no cookie-cutter solutions for issues such as overfitting. There are no strict rules as to which technique is most effective when working with one type of dataset, so I would suggest you just try these techniques out and pick the one that you deem is the best (based on an evaluation metric) for your problem!\n",
    "\n",
    "Now, let's move on to a real world dataset.\n"
   ]
  },
  {
   "cell_type": "markdown",
   "metadata": {},
   "source": [
    "## Example 2: Spam Classification\n",
    "\n",
    "In this example, we will dive into a real world application, which is a spam classification problem. We will work with the [SMS Spam Collection Dataset](https://www.kaggle.com/datasets/uciml/sms-spam-collection-dataset) from Kaggle and use neural networks for classifying a message as either Spam or Ham (not spam).\n",
    "\n",
    "We first download and display the raw dataset:\n"
   ]
  },
  {
   "cell_type": "code",
   "execution_count": null,
   "metadata": {},
   "outputs": [],
   "source": [
    "import skillsnetwork\n",
    "\n",
    "await skillsnetwork.download(\"https://cf-courses-data.s3.us.cloud-object-storage.appdomain.cloud/IBMDeveloperSkillsNetwork-ML311-Coursera/labs/Module1/L3/data/spam.csv\")"
   ]
  },
  {
   "cell_type": "code",
   "execution_count": null,
   "metadata": {},
   "outputs": [],
   "source": [
    "data = pd.read_csv(\"spam.csv\", encoding=\"latin-1\")\n",
    "data.head()"
   ]
  },
  {
   "cell_type": "markdown",
   "metadata": {},
   "source": [
    "By calling the helper function **prepare_data**, we obtain a matrix $\\boldsymbol X$ which contains the pre-processed text data (mainly using the **TfidfVectorizer** from scikit-learn's **feature_extraction** module) and an object $\\boldsymbol y$ which contains the labels of the messages. \n",
    "\n",
    "There are 5572 text messages that will be classified as either spam **(1)** or non-spam **(0)**, and they are 8536-dimensional data.\n"
   ]
  },
  {
   "cell_type": "code",
   "execution_count": null,
   "metadata": {},
   "outputs": [],
   "source": [
    "X, y = prepare_data()\n",
    "X.shape, y.shape"
   ]
  },
  {
   "cell_type": "markdown",
   "metadata": {},
   "source": [
    "### Model Configuration and Training\n"
   ]
  },
  {
   "cell_type": "markdown",
   "metadata": {},
   "source": [
    "The **get_model** function provides the layer configuration ane the training of a neural network for different specifications of the regularization technique used. For example, by setting `reg='L1'`, the network's Dense layers will be regularized by L1, and then at the end of the training, the loss and accuracy curve of the train and validation set will be plotted.\n"
   ]
  },
  {
   "cell_type": "code",
   "execution_count": null,
   "metadata": {},
   "outputs": [],
   "source": [
    "input_dim = X.shape[1]\n",
    "   \n",
    "def get_model(reg=None, epochs=10):\n",
    "    model = Sequential()\n",
    "    model.add(Dense(512, activation='relu', input_shape=(input_dim,)))\n",
    "    if reg==\"L1\":\n",
    "        model.add(Dense(256, activation='relu', kernel_regularizer=\"l1\"))\n",
    "        model.add(Dense(64, activation='relu', kernel_regularizer=\"l1\"))\n",
    "    elif reg==\"L2\":\n",
    "        model.add(Dense(256, activation='relu', kernel_regularizer=\"l2\"))\n",
    "        model.add(Dense(64, activation='relu', kernel_regularizer=\"l2\"))\n",
    "    elif reg==\"Dropout\":\n",
    "        model.add(Dropout(0.2))\n",
    "        model.add(Dense(256, activation='relu'))\n",
    "        model.add(Dropout(0.2))\n",
    "        model.add(Dense(64, activation='relu'))\n",
    "        model.add(Dropout(0.2))\n",
    "    elif reg==\"BatchNorm\":\n",
    "        model.add(BatchNormalization())\n",
    "        model.add(Dense(256, activation='relu'))\n",
    "        model.add(BatchNormalization())\n",
    "        model.add(Dense(64, activation='relu'))\n",
    "        model.add(BatchNormalization())  \n",
    "    else:\n",
    "        model.add(Dense(256, activation='relu'))\n",
    "        model.add(Dense(64, activation='relu'))  \n",
    " \n",
    "    model.add(Dense(1, activation='sigmoid'))\n",
    "    model.compile(loss=\"binary_crossentropy\", optimizer=\"adam\",\n",
    "                 metrics=[\"accuracy\"])\n",
    "    history = model.fit(X, y, batch_size=64, validation_split=0.2,\n",
    "              epochs=epochs)\n",
    "    plot_metrics(history)\n"
   ]
  },
  {
   "cell_type": "markdown",
   "metadata": {},
   "source": [
    "### Baseline: No Regularization\n"
   ]
  },
  {
   "cell_type": "code",
   "execution_count": null,
   "metadata": {},
   "outputs": [],
   "source": [
    "get_model()"
   ]
  },
  {
   "cell_type": "markdown",
   "metadata": {},
   "source": [
    "You can see that without regularization, our training set accuracy is generally higher than validation accuracy, which means the model is overfitted to the training set.\n"
   ]
  },
  {
   "cell_type": "markdown",
   "metadata": {},
   "source": [
    "### L1 Regularization\n"
   ]
  },
  {
   "cell_type": "code",
   "execution_count": null,
   "metadata": {},
   "outputs": [],
   "source": [
    "get_model(reg=\"L1\")"
   ]
  },
  {
   "cell_type": "markdown",
   "metadata": {},
   "source": [
    "With L1 regularization, we can see that the validation accuracy is now higher than the training accuracy, meaning the L1 regularization mitigated the overfitting issue. However, if we look closer at the y-axis, we can see that in fact the accuracy value in general (both train and validation) is lower than the baseline model. \n",
    "\n",
    "For the baseline model, the validation accuracy was always above 0.97 even though it's slightly lower than the training accuracy. This indicates that, by using the default L1 regularization with shrinkage strength equals 0.001, our model is underfitting.\n"
   ]
  },
  {
   "cell_type": "markdown",
   "metadata": {},
   "source": [
    "### L2 Regularization\n"
   ]
  },
  {
   "cell_type": "code",
   "execution_count": null,
   "metadata": {},
   "outputs": [],
   "source": [
    "get_model(reg=\"L2\")"
   ]
  },
  {
   "cell_type": "markdown",
   "metadata": {},
   "source": [
    "With L2 regularization, the gap between training accuracy and validation accuracy narrowed a little bit. The training accuracy was not always 1.0 compared to the baseline and the validation accuracy had more fluctuations than the baseline.\n"
   ]
  },
  {
   "cell_type": "markdown",
   "metadata": {},
   "source": [
    "### Dropout\n"
   ]
  },
  {
   "cell_type": "code",
   "execution_count": null,
   "metadata": {},
   "outputs": [],
   "source": [
    "get_model(reg=\"Dropout\")"
   ]
  },
  {
   "cell_type": "markdown",
   "metadata": {},
   "source": [
    "With dropout, the resulting curves are very similar to the baseline, so perhaps dropout is not very effective in our case.\n"
   ]
  },
  {
   "cell_type": "markdown",
   "metadata": {},
   "source": [
    "### Batch Normalization\n"
   ]
  },
  {
   "cell_type": "code",
   "execution_count": null,
   "metadata": {},
   "outputs": [],
   "source": [
    "get_model(reg=\"BathNorm\")"
   ]
  },
  {
   "cell_type": "markdown",
   "metadata": {},
   "source": [
    "With Batch Norm, the final training accuracy is 1.0 and final validation accuracy is 0.9812, which is slightly higher than before (0.9794). We can conclude that Batch Normalization is a relatively better choice for regularizing neural network training.\n"
   ]
  },
  {
   "cell_type": "markdown",
   "metadata": {},
   "source": [
    "## Authors\n"
   ]
  },
  {
   "cell_type": "markdown",
   "metadata": {},
   "source": [
    "[Roxanne Li](https://www.linkedin.com/in/roxanne-li/) is a Data Scientist at IBM Skills Network.\n"
   ]
  },
  {
   "cell_type": "markdown",
   "metadata": {},
   "source": [
    "## Change Log\n"
   ]
  },
  {
   "cell_type": "markdown",
   "metadata": {},
   "source": [
    "| Date (YYYY-MM-DD) | Version | Changed By  | Change Description |\n",
    "| ----------------- | ------- | ----------- | ------------------ |\n",
    "| 2022-07-18      | 0.1     | Roxanne Li  | Created Lab|\n",
    "| 2022-09-07      | 0.1     | Steve Hord  | QA pass edits|\n"
   ]
  },
  {
   "cell_type": "markdown",
   "metadata": {},
   "source": [
    "Copyright © 2022 IBM Corporation. All rights reserved.\n"
   ]
  }
 ],
 "metadata": {
  "kernelspec": {
   "display_name": "Python",
   "language": "python",
   "name": "conda-env-python-py"
  },
  "language_info": {
   "codemirror_mode": {
    "name": "ipython",
    "version": 3
   },
   "file_extension": ".py",
   "mimetype": "text/x-python",
   "name": "python",
   "nbconvert_exporter": "python",
   "pygments_lexer": "ipython3",
   "version": "3.7.12"
  },
  "prev_pub_hash": "e19ff898fd7547a95bfdb5b2a71cdb5814cb7c6d54314a9eeec6570eda3fc3c3"
 },
 "nbformat": 4,
 "nbformat_minor": 4
}
